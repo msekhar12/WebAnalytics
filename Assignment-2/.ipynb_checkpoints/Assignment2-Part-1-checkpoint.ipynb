{
 "cells": [
  {
   "cell_type": "markdown",
   "metadata": {},
   "source": [
    "# Web Analytics - Assignment 2 (Part-1)\n",
    "\n",
    "*June 15, 2017*\n",
    "\n",
    "## Group 1 Members:\n",
    "* Mauricio Alarcon\n",
    "* Sekhar Mekala\n",
    "* Aadi Kalloo\n",
    "* Srinivasa Illapani\n",
    "* Param Singh"
   ]
  },
  {
   "cell_type": "markdown",
   "metadata": {},
   "source": [
    "**The requirements of this assignment are given below:**\n",
    "\n",
    "Load a graph database of your choosing from a text file or other source.  If you take a large network dataset from the web (such as fromhttps://snap.stanford.edu/data/), please feel free at this point to load just a small subset of the nodes and edges.\n",
    "\n",
    "Create basic analysis on the graph, including the graph’s diameter, and at least one other metric of your choosing.  You may either code the functions by hand (to build your intuition and insight), or use functions in an existing package. \n",
    "\n",
    "Use a visualization tool of your choice (Neo4j, Gephi, etc.) to display information.\n",
    "Please record a short video (~ 5 minutes), and submit a link to the video in advance of our meet-up."
   ]
  },
  {
   "cell_type": "markdown",
   "metadata": {},
   "source": [
    "### Approach\n",
    "\n",
    "In this assignment, we will be creating a graph based on the Super Heros data set available at https://www.kaggle.com/csanhueza/the-marvel-universe-social-network. We will identify the diameter of the graph and the radius of the graph, along with the graph's center nodes. \n",
    "\n",
    "Importing all the required packages."
   ]
  },
  {
   "cell_type": "code",
   "execution_count": 1,
   "metadata": {
    "collapsed": true
   },
   "outputs": [],
   "source": [
    "import networkx as net\n",
    "import urllib\n",
    "import matplotlib.pyplot as plt\n",
    "import pandas as pd\n",
    "import numpy as np\n",
    "import sklearn"
   ]
  },
  {
   "cell_type": "markdown",
   "metadata": {},
   "source": [
    "## Data\n",
    "We downloaded the following 3 datasets from  https://www.kaggle.com/csanhueza/the-marvel-universe-social-network.\n",
    "\n",
    "* nodes.csv - Contains comma separated values of character and the character type. The type of the character can be either *hero* or *comic*.\n",
    "\n",
    "* edges.csv - Contains comma separated values of the hero's name, and the comic book name.\n",
    "\n",
    "* hero-network.csv - Contains comma separated values of the hero1 and hero2 who appeared together in a comic.\n",
    "\n",
    "In this assignment we will be using the file *hero-network.csv* to build the graph of super heroes network based on the Marvel comics."
   ]
  },
  {
   "cell_type": "markdown",
   "metadata": {},
   "source": [
    "We will build an undirected graph using the data present in *hero-network.csv* file. It has 2 columns *hero1* and *hero2*. The data in this file represents the superheroes who appeared together in a comic book."
   ]
  },
  {
   "cell_type": "markdown",
   "metadata": {},
   "source": [
    "### Reading and cleansing the data\n",
    "We will read the data into a data frame and perform some sanity checks to make sure that the data is suitable for building a graph.\n",
    "\n",
    "_Sample records of the hero-network.csv are displayed below:_"
   ]
  },
  {
   "cell_type": "code",
   "execution_count": 2,
   "metadata": {},
   "outputs": [
    {
     "data": {
      "text/html": [
       "<div>\n",
       "<style>\n",
       "    .dataframe thead tr:only-child th {\n",
       "        text-align: right;\n",
       "    }\n",
       "\n",
       "    .dataframe thead th {\n",
       "        text-align: left;\n",
       "    }\n",
       "\n",
       "    .dataframe tbody tr th {\n",
       "        vertical-align: top;\n",
       "    }\n",
       "</style>\n",
       "<table border=\"1\" class=\"dataframe\">\n",
       "  <thead>\n",
       "    <tr style=\"text-align: right;\">\n",
       "      <th></th>\n",
       "      <th>hero1</th>\n",
       "      <th>hero2</th>\n",
       "    </tr>\n",
       "  </thead>\n",
       "  <tbody>\n",
       "    <tr>\n",
       "      <th>0</th>\n",
       "      <td>LITTLE, ABNER</td>\n",
       "      <td>PRINCESS ZANDA</td>\n",
       "    </tr>\n",
       "    <tr>\n",
       "      <th>1</th>\n",
       "      <td>LITTLE, ABNER</td>\n",
       "      <td>BLACK PANTHER/T'CHAL</td>\n",
       "    </tr>\n",
       "    <tr>\n",
       "      <th>2</th>\n",
       "      <td>BLACK PANTHER/T'CHAL</td>\n",
       "      <td>PRINCESS ZANDA</td>\n",
       "    </tr>\n",
       "    <tr>\n",
       "      <th>3</th>\n",
       "      <td>LITTLE, ABNER</td>\n",
       "      <td>PRINCESS ZANDA</td>\n",
       "    </tr>\n",
       "    <tr>\n",
       "      <th>4</th>\n",
       "      <td>LITTLE, ABNER</td>\n",
       "      <td>BLACK PANTHER/T'CHAL</td>\n",
       "    </tr>\n",
       "  </tbody>\n",
       "</table>\n",
       "</div>"
      ],
      "text/plain": [
       "                  hero1                 hero2\n",
       "0         LITTLE, ABNER        PRINCESS ZANDA\n",
       "1         LITTLE, ABNER  BLACK PANTHER/T'CHAL\n",
       "2  BLACK PANTHER/T'CHAL        PRINCESS ZANDA\n",
       "3         LITTLE, ABNER        PRINCESS ZANDA\n",
       "4         LITTLE, ABNER  BLACK PANTHER/T'CHAL"
      ]
     },
     "metadata": {},
     "output_type": "display_data"
    }
   ],
   "source": [
    "#Read the data into a pandas data frame:\n",
    "ga_edges = pd.read_csv('./data/hero-network.csv')\n",
    "\n",
    "#print(\"Sample rows...\")\n",
    "display(ga_edges.head())\n"
   ]
  },
  {
   "cell_type": "markdown",
   "metadata": {},
   "source": [
    "_Summary information of the data set is displayed below:_"
   ]
  },
  {
   "cell_type": "code",
   "execution_count": 3,
   "metadata": {},
   "outputs": [
    {
     "data": {
      "text/html": [
       "<div>\n",
       "<style>\n",
       "    .dataframe thead tr:only-child th {\n",
       "        text-align: right;\n",
       "    }\n",
       "\n",
       "    .dataframe thead th {\n",
       "        text-align: left;\n",
       "    }\n",
       "\n",
       "    .dataframe tbody tr th {\n",
       "        vertical-align: top;\n",
       "    }\n",
       "</style>\n",
       "<table border=\"1\" class=\"dataframe\">\n",
       "  <thead>\n",
       "    <tr style=\"text-align: right;\">\n",
       "      <th></th>\n",
       "      <th>hero1</th>\n",
       "      <th>hero2</th>\n",
       "    </tr>\n",
       "  </thead>\n",
       "  <tbody>\n",
       "    <tr>\n",
       "      <th>count</th>\n",
       "      <td>574467</td>\n",
       "      <td>574467</td>\n",
       "    </tr>\n",
       "    <tr>\n",
       "      <th>unique</th>\n",
       "      <td>6211</td>\n",
       "      <td>6173</td>\n",
       "    </tr>\n",
       "    <tr>\n",
       "      <th>top</th>\n",
       "      <td>CAPTAIN AMERICA</td>\n",
       "      <td>CAPTAIN AMERICA</td>\n",
       "    </tr>\n",
       "    <tr>\n",
       "      <th>freq</th>\n",
       "      <td>8149</td>\n",
       "      <td>8350</td>\n",
       "    </tr>\n",
       "  </tbody>\n",
       "</table>\n",
       "</div>"
      ],
      "text/plain": [
       "                  hero1            hero2\n",
       "count            574467           574467\n",
       "unique             6211             6173\n",
       "top     CAPTAIN AMERICA  CAPTAIN AMERICA\n",
       "freq               8149             8350"
      ]
     },
     "metadata": {},
     "output_type": "display_data"
    }
   ],
   "source": [
    "\n",
    "#print(\"Summary information of the data is displayed below:\")\n",
    "display(ga_edges.describe())\n",
    "\n",
    "#print(\"\\nThe above summary confirms that there are no NA values in the data set, \\\n",
    "#\\nand CAPTAIN AMERICA has co-appeared most of the times along with other comic characters.\")\n"
   ]
  },
  {
   "cell_type": "markdown",
   "metadata": {},
   "source": [
    "The above summary confirms that there are no NA values in the data set, \n",
    "and CAPTAIN AMERICA has co-appeared most of the times along with other comic characters."
   ]
  },
  {
   "cell_type": "markdown",
   "metadata": {},
   "source": [
    "_Do we have any self referential nodes?_\n",
    "\n",
    "We will eliminate self-referential records (if any) present in the data set, since we are not interested in analyzing such nodes in this project."
   ]
  },
  {
   "cell_type": "code",
   "execution_count": 4,
   "metadata": {},
   "outputs": [
    {
     "name": "stdout",
     "output_type": "stream",
     "text": [
      "There are 2232 rows which have both the same hero listed as hero1 and hero2 in the same comic\n",
      "Some of these rows are displayed below:\n"
     ]
    },
    {
     "data": {
      "text/html": [
       "<div>\n",
       "<style>\n",
       "    .dataframe thead tr:only-child th {\n",
       "        text-align: right;\n",
       "    }\n",
       "\n",
       "    .dataframe thead th {\n",
       "        text-align: left;\n",
       "    }\n",
       "\n",
       "    .dataframe tbody tr th {\n",
       "        vertical-align: top;\n",
       "    }\n",
       "</style>\n",
       "<table border=\"1\" class=\"dataframe\">\n",
       "  <thead>\n",
       "    <tr style=\"text-align: right;\">\n",
       "      <th></th>\n",
       "      <th>hero1</th>\n",
       "      <th>hero2</th>\n",
       "    </tr>\n",
       "  </thead>\n",
       "  <tbody>\n",
       "    <tr>\n",
       "      <th>8888</th>\n",
       "      <td>MISS AMERICA/MADELIN</td>\n",
       "      <td>MISS AMERICA/MADELIN</td>\n",
       "    </tr>\n",
       "    <tr>\n",
       "      <th>8889</th>\n",
       "      <td>MISS AMERICA/MADELIN</td>\n",
       "      <td>MISS AMERICA/MADELIN</td>\n",
       "    </tr>\n",
       "    <tr>\n",
       "      <th>8890</th>\n",
       "      <td>MISS AMERICA/MADELIN</td>\n",
       "      <td>MISS AMERICA/MADELIN</td>\n",
       "    </tr>\n",
       "    <tr>\n",
       "      <th>8891</th>\n",
       "      <td>MISS AMERICA/MADELIN</td>\n",
       "      <td>MISS AMERICA/MADELIN</td>\n",
       "    </tr>\n",
       "    <tr>\n",
       "      <th>8892</th>\n",
       "      <td>MISS AMERICA/MADELIN</td>\n",
       "      <td>MISS AMERICA/MADELIN</td>\n",
       "    </tr>\n",
       "  </tbody>\n",
       "</table>\n",
       "</div>"
      ],
      "text/plain": [
       "                     hero1                 hero2\n",
       "8888  MISS AMERICA/MADELIN  MISS AMERICA/MADELIN\n",
       "8889  MISS AMERICA/MADELIN  MISS AMERICA/MADELIN\n",
       "8890  MISS AMERICA/MADELIN  MISS AMERICA/MADELIN\n",
       "8891  MISS AMERICA/MADELIN  MISS AMERICA/MADELIN\n",
       "8892  MISS AMERICA/MADELIN  MISS AMERICA/MADELIN"
      ]
     },
     "metadata": {},
     "output_type": "display_data"
    }
   ],
   "source": [
    "\n",
    "\n",
    "\n",
    "print(\"There are {0} rows which have both \\\n",
    "the same hero listed as hero1 and hero2 in the same comic\\n\\\n",
    "Some of these rows are displayed below:\".\n",
    "      format(sum(ga_edges[\"hero1\"] == ga_edges[\"hero2\"])))\n",
    "\n",
    "\n",
    "display(ga_edges.loc[(ga_edges[\"hero1\"] == ga_edges[\"hero2\"])].head())\n",
    "\n"
   ]
  },
  {
   "cell_type": "markdown",
   "metadata": {},
   "source": [
    "There are 2232 rows which are self referencing. We will eliminate these rows from the data frame, and build the graph using the remaining rows."
   ]
  },
  {
   "cell_type": "code",
   "execution_count": 5,
   "metadata": {
    "collapsed": true
   },
   "outputs": [],
   "source": [
    "#Deleting the self referential endges from the data frame\n",
    "ga_edges = ga_edges.loc[~(ga_edges[\"hero1\"] == ga_edges[\"hero2\"])]"
   ]
  },
  {
   "cell_type": "markdown",
   "metadata": {},
   "source": [
    "_Summary information of the final data frame, along with some sample records are displayed below:_"
   ]
  },
  {
   "cell_type": "code",
   "execution_count": 6,
   "metadata": {},
   "outputs": [
    {
     "name": "stdout",
     "output_type": "stream",
     "text": [
      "\n",
      "The summary information of the final data frame:\n"
     ]
    },
    {
     "data": {
      "text/html": [
       "<div>\n",
       "<style>\n",
       "    .dataframe thead tr:only-child th {\n",
       "        text-align: right;\n",
       "    }\n",
       "\n",
       "    .dataframe thead th {\n",
       "        text-align: left;\n",
       "    }\n",
       "\n",
       "    .dataframe tbody tr th {\n",
       "        vertical-align: top;\n",
       "    }\n",
       "</style>\n",
       "<table border=\"1\" class=\"dataframe\">\n",
       "  <thead>\n",
       "    <tr style=\"text-align: right;\">\n",
       "      <th></th>\n",
       "      <th>hero1</th>\n",
       "      <th>hero2</th>\n",
       "    </tr>\n",
       "  </thead>\n",
       "  <tbody>\n",
       "    <tr>\n",
       "      <th>count</th>\n",
       "      <td>572235</td>\n",
       "      <td>572235</td>\n",
       "    </tr>\n",
       "    <tr>\n",
       "      <th>unique</th>\n",
       "      <td>6211</td>\n",
       "      <td>6173</td>\n",
       "    </tr>\n",
       "    <tr>\n",
       "      <th>top</th>\n",
       "      <td>CAPTAIN AMERICA</td>\n",
       "      <td>CAPTAIN AMERICA</td>\n",
       "    </tr>\n",
       "    <tr>\n",
       "      <th>freq</th>\n",
       "      <td>8029</td>\n",
       "      <td>8230</td>\n",
       "    </tr>\n",
       "  </tbody>\n",
       "</table>\n",
       "</div>"
      ],
      "text/plain": [
       "                  hero1            hero2\n",
       "count            572235           572235\n",
       "unique             6211             6173\n",
       "top     CAPTAIN AMERICA  CAPTAIN AMERICA\n",
       "freq               8029             8230"
      ]
     },
     "metadata": {},
     "output_type": "display_data"
    },
    {
     "name": "stdout",
     "output_type": "stream",
     "text": [
      "Sample records of the final, cleansed data set are displayed below:\n"
     ]
    },
    {
     "data": {
      "text/html": [
       "<div>\n",
       "<style>\n",
       "    .dataframe thead tr:only-child th {\n",
       "        text-align: right;\n",
       "    }\n",
       "\n",
       "    .dataframe thead th {\n",
       "        text-align: left;\n",
       "    }\n",
       "\n",
       "    .dataframe tbody tr th {\n",
       "        vertical-align: top;\n",
       "    }\n",
       "</style>\n",
       "<table border=\"1\" class=\"dataframe\">\n",
       "  <thead>\n",
       "    <tr style=\"text-align: right;\">\n",
       "      <th></th>\n",
       "      <th>hero1</th>\n",
       "      <th>hero2</th>\n",
       "    </tr>\n",
       "  </thead>\n",
       "  <tbody>\n",
       "    <tr>\n",
       "      <th>0</th>\n",
       "      <td>LITTLE, ABNER</td>\n",
       "      <td>PRINCESS ZANDA</td>\n",
       "    </tr>\n",
       "    <tr>\n",
       "      <th>1</th>\n",
       "      <td>LITTLE, ABNER</td>\n",
       "      <td>BLACK PANTHER/T'CHAL</td>\n",
       "    </tr>\n",
       "    <tr>\n",
       "      <th>2</th>\n",
       "      <td>BLACK PANTHER/T'CHAL</td>\n",
       "      <td>PRINCESS ZANDA</td>\n",
       "    </tr>\n",
       "    <tr>\n",
       "      <th>3</th>\n",
       "      <td>LITTLE, ABNER</td>\n",
       "      <td>PRINCESS ZANDA</td>\n",
       "    </tr>\n",
       "    <tr>\n",
       "      <th>4</th>\n",
       "      <td>LITTLE, ABNER</td>\n",
       "      <td>BLACK PANTHER/T'CHAL</td>\n",
       "    </tr>\n",
       "  </tbody>\n",
       "</table>\n",
       "</div>"
      ],
      "text/plain": [
       "                  hero1                 hero2\n",
       "0         LITTLE, ABNER        PRINCESS ZANDA\n",
       "1         LITTLE, ABNER  BLACK PANTHER/T'CHAL\n",
       "2  BLACK PANTHER/T'CHAL        PRINCESS ZANDA\n",
       "3         LITTLE, ABNER        PRINCESS ZANDA\n",
       "4         LITTLE, ABNER  BLACK PANTHER/T'CHAL"
      ]
     },
     "metadata": {},
     "output_type": "display_data"
    }
   ],
   "source": [
    "print(\"\\nThe summary information of the final data frame:\")\n",
    "\n",
    "display(ga_edges.describe())\n",
    "print(\"Sample records of the final, cleansed data set are displayed below:\")\n",
    "display(ga_edges.head())\n"
   ]
  },
  {
   "cell_type": "markdown",
   "metadata": {},
   "source": [
    "### Building the graph\n",
    "Using the cleansed data, we will build a network graph of super heros."
   ]
  },
  {
   "cell_type": "code",
   "execution_count": 7,
   "metadata": {},
   "outputs": [
    {
     "name": "stdout",
     "output_type": "stream",
     "text": [
      "Graph built sucessfully\n"
     ]
    }
   ],
   "source": [
    "#Building a graph directly using pandas data frame:\n",
    "try:\n",
    "    GA = net.from_pandas_dataframe(ga_edges,source=\"hero1\",target=\"hero2\")\n",
    "    print(\"Graph built sucessfully\")\n",
    "except:\n",
    "    print(\"Error in building the graph\")"
   ]
  },
  {
   "cell_type": "markdown",
   "metadata": {},
   "source": [
    "\n",
    "## Analysis\n",
    "\n",
    "The summary information of the graph built is given below:"
   ]
  },
  {
   "cell_type": "code",
   "execution_count": 8,
   "metadata": {},
   "outputs": [
    {
     "name": "stdout",
     "output_type": "stream",
     "text": [
      "Name: \n",
      "Type: Graph\n",
      "Number of nodes: 6426\n",
      "Number of edges: 167207\n",
      "Average degree:  52.0408\n"
     ]
    }
   ],
   "source": [
    "print(net.info(GA))"
   ]
  },
  {
   "cell_type": "markdown",
   "metadata": {},
   "source": [
    "The above summary confirms that our graph has 6426 nodes and 167207 edges. The average degree of nodes is 52.0408. This means, each node has approximately 52 connections with other nodes. This also signifies that each comic character has paired up with other comic characters for 52 times, on an average.\n",
    "\n",
    "Before we discuss about the metrics of interest, let us define some terms:\n",
    "\n",
    "_Eccentricity_ The eccentricity of a node $n$ in a graph represents the _maximum_ of the shortest path distances from $n$ to all other graphs\n",
    "\n",
    "_Diameter_ The diameter of a graph is the _maximum_ eccentricity of all the nodes in the graph\n",
    "\n",
    "_Radius_ The radius of a graph is the _minimum_ eccentricity of all the nodes in the graph\n",
    "\n",
    "_Graph center_ The set of all nodes whose eccentricity is equal to the graph's radius\n",
    "\n",
    "_Graph periphery_ The set of all nodes whose eccentricity is equal to the diameter of the graph\n",
    "\n",
    "In this assignment we will obtain the following metrics of the graph:\n",
    "\n",
    "* Diameter\n",
    "* Radius\n",
    "* Graph Center\n",
    "* Graph Periphery\n",
    "\n"
   ]
  },
  {
   "cell_type": "markdown",
   "metadata": {},
   "source": [
    "_Let us identify if we have any disconnected components in our graph_\n",
    "If we have any disconnected components in our graph, we will separate them into subgraphs."
   ]
  },
  {
   "cell_type": "code",
   "execution_count": 9,
   "metadata": {},
   "outputs": [
    {
     "data": {
      "text/plain": [
       "False"
      ]
     },
     "execution_count": 9,
     "metadata": {},
     "output_type": "execute_result"
    }
   ],
   "source": [
    "net.is_connected(GA)"
   ]
  },
  {
   "cell_type": "markdown",
   "metadata": {},
   "source": [
    "The above block's output confirms that we have some disconnected components. Let us identify the disconnected components and collect them into a list of sub-graphs"
   ]
  },
  {
   "cell_type": "code",
   "execution_count": 10,
   "metadata": {},
   "outputs": [
    {
     "name": "stdout",
     "output_type": "stream",
     "text": [
      "There are 4 subgraphs\n",
      "----------------------------------\n",
      "Summary details of sub-graph: 1 \n",
      "----------------------------------\n",
      "Name: \n",
      "Type: Graph\n",
      "Number of nodes: 6408\n",
      "Number of edges: 167151\n",
      "Average degree:  52.1695\n",
      "Diameter:5\n",
      "Radius:3\n",
      "----------------------------------\n",
      "Summary details of sub-graph: 2 \n",
      "----------------------------------\n",
      "Name: \n",
      "Type: Graph\n",
      "Number of nodes: 7\n",
      "Number of edges: 21\n",
      "Average degree:   6.0000\n",
      "Diameter:1\n",
      "Radius:1\n",
      "----------------------------------\n",
      "Summary details of sub-graph: 3 \n",
      "----------------------------------\n",
      "Name: \n",
      "Type: Graph\n",
      "Number of nodes: 9\n",
      "Number of edges: 34\n",
      "Average degree:   7.5556\n",
      "Diameter:2\n",
      "Radius:1\n",
      "----------------------------------\n",
      "Summary details of sub-graph: 4 \n",
      "----------------------------------\n",
      "Name: \n",
      "Type: Graph\n",
      "Number of nodes: 2\n",
      "Number of edges: 1\n",
      "Average degree:   1.0000\n",
      "Diameter:1\n",
      "Radius:1\n"
     ]
    }
   ],
   "source": [
    "GA_list = list(net.connected_component_subgraphs(GA))\n",
    "print(\"There are {0} subgraphs\".format(len(GA_list)))\n",
    "\n",
    "x = 1\n",
    "for i in GA_list:\n",
    "    print(\"----------------------------------\")\n",
    "    print(\"Summary details of sub-graph: {0} \".format(x))\n",
    "    print(\"----------------------------------\")\n",
    "    x += 1\n",
    "    print(net.info(i))\n",
    "    print(\"Diameter:{0}\".format(net.diameter(i)))\n",
    "    print(\"Radius:{0}\".format(net.radius(i)))"
   ]
  },
  {
   "cell_type": "markdown",
   "metadata": {},
   "source": [
    "## Subgraph-1 analysis\n",
    "The above display shows that the subgraph-1 has a radius of 3 and a diameter of 5. This means, the maximum shortest distance from some nodes to all other nodes is 5 hops and the minimum shortest distance is 3 hops. The subgraph-1 is also the biggest graph, since it has 6408 nodes, with 167151 edges, and the average connections per node is approximately 52. Let us analyze how the eccentricity values are distributed."
   ]
  },
  {
   "cell_type": "code",
   "execution_count": 11,
   "metadata": {
    "collapsed": true
   },
   "outputs": [],
   "source": [
    "eccentricities = net.eccentricity(GA_list[0])"
   ]
  },
  {
   "cell_type": "code",
   "execution_count": 17,
   "metadata": {},
   "outputs": [
    {
     "data": {
      "image/png": "[encoded data removed]",
      "text/plain": [
       "<matplotlib.figure.Figure at 0x257df80bba8>"
      ]
     },
     "metadata": {},
     "output_type": "display_data"
    }
   ],
   "source": [
    "#Create a Pandas data frame for easy computation\n",
    "ecc_sub_graph_df = pd.DataFrame(list(eccentricities.items()))\n",
    "\n",
    "#Rename the pandas data frame columns\n",
    "ecc_sub_graph_df.columns = [\"Hero\",\"Eccentricity\"] \n",
    "\n",
    "#Display a set of rows\n",
    "#display(ecc_sub_graph_df.head())\n",
    "\n",
    "#Get the eccentricities counts\n",
    "ecc_group = ecc_sub_graph_df.groupby([\"Eccentricity\"]).count().reset_index()\n",
    "ecc_group.columns=[\"Eccentricity\",\"Count\"]\n",
    "\n",
    "#Plot a barchart of eccentricity counts\n",
    "N = 3\n",
    "ind = np.arange(N)\n",
    "width = .3\n",
    "fig,ax=plt.subplots()\n",
    "rects1 = ax.bar(ind, ecc_group[\"Count\"], width, color='r')\n",
    "ax.set_ylim([0,7000])\n",
    "ax.set_ylabel('Counts')\n",
    "ax.set_xlabel('Eccentricity')\n",
    "ax.set_xticks(ind)\n",
    "ax.set_xticklabels(('3','4','5'))\n",
    "\n",
    "def autolabel(rects):\n",
    "    \"\"\"\n",
    "    Attach a text label above each bar displaying its height\n",
    "    \"\"\"\n",
    "    for rect in rects:\n",
    "        height = rect.get_height()\n",
    "        ax.text(rect.get_x() + rect.get_width()/2., 1.05*height,\n",
    "                '%d' % int(height),\n",
    "                ha='center', va='bottom')\n",
    "\n",
    "autolabel(rects1)\n",
    "\n",
    "plt.show()"
   ]
  },
  {
   "cell_type": "markdown",
   "metadata": {},
   "source": [
    "The above figure shows that only 296 nodes have the same eccentricity values as the radius of the subgraph-1 (radius of subgraph-1 is 3), while 212 nodes have eccentricity values equal to the graph's diameter. So based on these measures, we have 296 nodes as the center nodes, and 212 nodes as the periphery nodes. We will plot a graph with only the center 296 nodes and which have a degree range of 290-295. This will help us to reduce the number of nodes significantly and display some of the center nodes which have 290 to 295 connections (we found using Gephi that the center nodes have degree range of 52 to 295). To use Gephi, we built a new graph with just the center nodes. The following code will build a Networkx graph with just the center nodes."
   ]
  },
  {
   "cell_type": "code",
   "execution_count": 18,
   "metadata": {},
   "outputs": [
    {
     "name": "stdout",
     "output_type": "stream",
     "text": [
      "Graph built sucessfully\n",
      "Center nodes only graph summary:\n",
      "Name: \n",
      "Type: Graph\n",
      "Number of nodes: 296\n",
      "Number of edges: 22220\n",
      "Average degree: 150.1351\n"
     ]
    }
   ],
   "source": [
    "Hero = list(ecc_sub_graph_df[ecc_sub_graph_df[\"Eccentricity\"] == 3][\"Hero\"])\n",
    "sub_graph_0_simple=ga_edges[(ga_edges[\"hero1\"].isin(Hero) & ga_edges[\"hero2\"].isin(Hero))]\n",
    "\n",
    "try:\n",
    "    GA_0 = net.from_pandas_dataframe(sub_graph_0_simple,source=\"hero1\",target=\"hero2\")\n",
    "    print(\"Graph built sucessfully\")\n",
    "except:\n",
    "    print(\"Error in building the graph\")\n",
    "\n",
    "#Saving the graph\n",
    "net.write_gml(GA_0,\"subgraph0.gml\")\n",
    "print(\"Center nodes only graph summary:\")\n",
    "print(net.info(GA_0))"
   ]
  },
  {
   "cell_type": "markdown",
   "metadata": {},
   "source": [
    "We can see that the center node graph has an average degree of 150, and given that we have 296 nodes in the graph, we can conclude that the graph is highly connected. The following graph shows the nodes with a degree range of 290 to 295.\n",
    "\n",
    "<img src=\"images/subgraph0.png\" style=\"max-width:100%; width: 50%\">"
   ]
  },
  {
   "cell_type": "markdown",
   "metadata": {},
   "source": [
    "The above graph confirms that the famous super heroes such as Sprder Man, Iron Man, Captain America, Hulk and Wolverine are very important Marvel characters, which are at the center of the graph with maximu number of connections to other characters.\n"
   ]
  },
  {
   "cell_type": "markdown",
   "metadata": {},
   "source": [
    "### Sub-graph 2, 3 and 4 analysis\n",
    "The summary details of the sub-graphs 2, 3 and 4 show that these graphs are ver small with just 7, 9, and 2 nodes respectively. These graphs are plotted below:\n",
    "\n"
   ]
  },
  {
   "cell_type": "code",
   "execution_count": 19,
   "metadata": {},
   "outputs": [],
   "source": [
    "#Define a function to plot graphs in Networkx\n",
    "def draw_netx_graph(g):\n",
    "    layout = net.spring_layout(g)\n",
    "    net.draw_networkx_nodes(g,layout)\n",
    "    net.draw_networkx_labels(g,pos=layout)\n",
    "    net.draw_networkx_edges(g,pos=layout)\n",
    "    plt.axis(\"off\")\n",
    "    plt.show()\n"
   ]
  },
  {
   "cell_type": "markdown",
   "metadata": {},
   "source": [
    "**Subgraph-2**"
   ]
  },
  {
   "cell_type": "code",
   "execution_count": 20,
   "metadata": {},
   "outputs": [
    {
     "data": {
      "image/png": "[encoded data removed]",
      "text/plain": [
       "<matplotlib.figure.Figure at 0x257df9bb630>"
      ]
     },
     "metadata": {},
     "output_type": "display_data"
    }
   ],
   "source": [
    "draw_netx_graph(GA_list[1])"
   ]
  },
  {
   "cell_type": "markdown",
   "metadata": {},
   "source": [
    "**Subgraph-3**"
   ]
  },
  {
   "cell_type": "code",
   "execution_count": 21,
   "metadata": {},
   "outputs": [
    {
     "data": {
      "image/png": "[encoded data removed]",
      "text/plain": [
       "<matplotlib.figure.Figure at 0x257de55c198>"
      ]
     },
     "metadata": {},
     "output_type": "display_data"
    }
   ],
   "source": [
    "draw_netx_graph(GA_list[2])"
   ]
  },
  {
   "cell_type": "markdown",
   "metadata": {},
   "source": [
    "**Subgraph-4**"
   ]
  },
  {
   "cell_type": "code",
   "execution_count": 22,
   "metadata": {},
   "outputs": [
    {
     "data": {
      "image/png": "[encoded data removed]",
      "text/plain": [
       "<matplotlib.figure.Figure at 0x257e0aa8ba8>"
      ]
     },
     "metadata": {},
     "output_type": "display_data"
    }
   ],
   "source": [
    "draw_netx_graph(GA_list[3])"
   ]
  },
  {
   "cell_type": "markdown",
   "metadata": {},
   "source": [
    "The subgraphs 2, 3, and 4 are very small, and the characters in these graphs are not isolated, and perhaps they were not used in more than one comic."
   ]
  },
  {
   "cell_type": "markdown",
   "metadata": {},
   "source": [
    "## Conclusion\n",
    "In this assignment we were able to identify the following:\n",
    "\n",
    "* The Super heroes network data set has 4 isolated graphs.\n",
    "* Except one isolated graph, the remaining isolated graphs are not big enough to draw any interesting conclusions, other than the fact that those comic characters have never co-occured with the famous comic characters.\n",
    "* We were able to identify the diameter, radius, center and peripheri of the biggest isolated graph."
   ]
  }
 ],
 "metadata": {
  "kernelspec": {
   "display_name": "Python 3",
   "language": "python",
   "name": "python3"
  },
  "language_info": {
   "codemirror_mode": {
    "name": "ipython",
    "version": 3
   },
   "file_extension": ".py",
   "mimetype": "text/x-python",
   "name": "python",
   "nbconvert_exporter": "python",
   "pygments_lexer": "ipython3",
   "version": "3.5.3"
  }
 },
 "nbformat": 4,
 "nbformat_minor": 2
}
