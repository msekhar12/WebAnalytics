{
 "cells": [
  {
   "cell_type": "markdown",
   "metadata": {},
   "source": [
    "# Web Analytics - Assignment 2, Part-2\n",
    "\n",
    "*June 18, 2017*\n",
    "\n",
    "## Group 1 Members:\n",
    "* Mauricio Alarcon\n",
    "* Sekhar Mekala\n",
    "* Aadi Kalloo\n",
    "* Srinivasa Illapani\n",
    "* Param Singh"
   ]
  },
  {
   "cell_type": "markdown",
   "metadata": {},
   "source": [
    "**The requirements of this assignment are given below:**\n",
    "\n",
    "Centrality measures can be used to predict (positive or negative) outcomes for a node.\n",
    "\n",
    "Your task in this week’s assignment is to identify an interesting set of network data that is available on the web (either through web scraping or web APIs) that could be used for analyzing and comparing centrality measures across nodes.  As an additional constraint, there should be at least one categorical variable available for each node (such as “Male” or “Female”; “Republican”, “Democrat,” or “Undecided”, etc.)\n",
    "\n",
    "\n",
    "In addition to identifying your data source, you should create a high level plan that describes how you would load the data for analysis, and describe a hypothetical outcome that could be predicted from comparing degree centrality across categorical groups. \n",
    "\n",
    "\n",
    "For this week’s assignment, you are not required to actually load or analyze the data. "
   ]
  },
  {
   "cell_type": "markdown",
   "metadata": {},
   "source": [
    "In this document we will identify the project-1 requirements and explain our approach to implement project-1.\n",
    "\n",
    "## I. Project-1 requirements\n",
    "\n",
    "* Identify a data set, which can be modeled using graph theory concepts.\n",
    "\n",
    "* Each node must have at least one categorical variable.\n",
    "\n",
    "* Compare the centrality measures (degree centrality and eigen centrality measures) across different values of categorical variable values, and determine if the centrality measures are statistically significant to say that the cetrality measures are different for different values of the categorical variable.\n",
    "\n",
    "* Additional requirements:\n",
    "  * Identify the graph center nodes, and plot them on the graph, highlighting the center nodes.\n",
    "  * Identify the graph peripheral nodes, and plot them on the graph, highlighting the peripheral nodes.\n",
    "  * Plot the nodes which have higher eigen values on the garph and explain their significance.\n",
    "  \n",
    "  \n",
    "\n",
    "## II. Approach\n",
    "\n",
    "This document serves as a high level design document for project-1. Specifically we will preform the following steps to develop project-1:\n",
    "\n",
    "**1. Identify data**\n",
    "\n",
    "* For project-1, we will use a network data set which contains information about owners of hamsters and the friendships between the owners. The owners maintain the details about their  hamster(s) on a website, and the owners also maintain friendship with some of the owners on the same website. This data has lot of potential to study relationships between people based on various attributes of hamsters they own. For instance we can identify if the gender of hamster has any relationship to the number of friends a owner can have. We can also identify if the owner of same species of hamster tend to make more friends with similar species owners than with the owners of different species. If we determine that there is a relationship, then that knowledge can be applied to a much broader network like facebook to suggest potential networking opportunities between the users, based on the fact that users own hamsters. The data for this  project is present as a compressed folder at http://konect.uni-koblenz.de/networks/petster-hamster. The compressed file has 4 files described below: \n",
    "\n",
    "    * ent.petster-hamster - Contains hamster attributes such as ID, name, date joined, color,species, gender, birthday, age, hometown, favorite toy, favorite activity, favorite food.\n",
    "    * out.petster-hamster - Contains mapping between IDs, representing friendship between the owners of the hamsters with respective IDs.\n",
    "    * README.petster-hamster - Information about the files and citation requirements\n",
    "    * meta.petster-hamster - Contains information about the data\n",
    "\n",
    "\n",
    "**2. Clean the data**\n",
    "\n",
    "* Examine the data of the two data sets and identify which datasets are needed for the project\n",
    "\n",
    "* Check (and change) the data in the files to read the data to pandas data frames\n",
    "\n",
    "* Check if the data frames have any unavailable values, and determine a startegy to handle those missing values\n",
    "\n",
    "* Identify one or more _categorical variable(s)_ such as _gender_ and/or _species_ of the hamster, whose effect need to be measured by performing hypothesis test\n",
    "\n",
    "* Combine the data into a single data frame, which can be used to build a graph in NetworkX\n",
    "\n",
    "**3. Build the graph**\n",
    "\n",
    "* Using NetworkX, build the graph using the data frame built in the previous step\n",
    "\n",
    "* Identify if we have any sub-graphs in the graph, and determine the sub-graphs that can be used for further analysis\n",
    "\n",
    "* For each node create categorical variable(s), and update the variable (for each node) with its respective value\n",
    "\n",
    "**4. Analysis**\n",
    "\n",
    "* Find the following centrality measures for all the nodes:\n",
    "    * Degree Centrality\n",
    "    * Eigen Centrality\n",
    "\n",
    "* Define the following hypothesis:\n",
    "\n",
    "_Hypothesis:1_\n",
    "\n",
    "$H_0:$ The Degree Centrality has a uniform effect, irrespective of the value of the categorical variable\n",
    "    \n",
    "$H_1:$ The Degree Centrality has some effect based on the value of the categorical variable\n",
    "    \n",
    "_Hypothesis:2_\n",
    "\n",
    "$H_0:$ The Eigen vector Centrality has a uniform effect, irrespective of the value of the categorical variable\n",
    "    \n",
    "$H_1:$ The Eigen vector Centrality has some effect based on the value of the categorical variable\n",
    "\n",
    "* Using confidence level of 95%, perform hypothesis testing, and determine if the null hypothesis can be rejected \n",
    "\n",
    "** 5. Additional requirements (will be addressed later, unless we have time) **\n",
    "\n",
    "Using Gephi, plot the center nodes, nodes with higher eigen vector centrality values and analyze how these nodes are distributed in the complete graph.\n"
   ]
  },
  {
   "cell_type": "markdown",
   "metadata": {},
   "source": [
    "### IV. References\n",
    "konect:2016:petster-hamster, Hamsterster full network dataset, http://konect.uni-koblenz.de/networks/petster-hamster"
   ]
  }
 ],
 "metadata": {
  "kernelspec": {
   "display_name": "Python 3",
   "language": "python",
   "name": "python3"
  },
  "language_info": {
   "codemirror_mode": {
    "name": "ipython",
    "version": 3
   },
   "file_extension": ".py",
   "mimetype": "text/x-python",
   "name": "python",
   "nbconvert_exporter": "python",
   "pygments_lexer": "ipython3",
   "version": "3.5.3"
  }
 },
 "nbformat": 4,
 "nbformat_minor": 2
}
