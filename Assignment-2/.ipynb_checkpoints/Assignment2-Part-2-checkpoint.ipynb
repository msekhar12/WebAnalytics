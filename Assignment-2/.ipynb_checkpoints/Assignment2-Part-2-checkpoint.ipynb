{
 "cells": [
  {
   "cell_type": "markdown",
   "metadata": {},
   "source": [
    "# Web Analytics - Assignment 2, Part-2\n",
    "\n",
    "*June 18, 2017*\n",
    "\n",
    "## Group 1 Members:\n",
    "* Mauricio Alarcon\n",
    "* Sekhar Mekala\n",
    "* Aadi Kalloo\n",
    "* Srinivasa Illapani\n",
    "* Param Singh"
   ]
  },
  {
   "cell_type": "markdown",
   "metadata": {},
   "source": [
    "**The requirements of this assignment are given below:**\n",
    "\n",
    "Centrality measures can be used to predict (positive or negative) outcomes for a node.\n",
    "\n",
    "Your task in this week’s assignment is to identify an interesting set of network data that is available on the web (either through web scraping or web APIs) that could be used for analyzing and comparing centrality measures across nodes.  As an additional constraint, there should be at least one categorical variable available for each node (such as “Male” or “Female”; “Republican”, “Democrat,” or “Undecided”, etc.)\n",
    "\n",
    "\n",
    "In addition to identifying your data source, you should create a high level plan that describes how you would load the data for analysis, and describe a hypothetical outcome that could be predicted from comparing degree centrality across categorical groups. \n",
    "\n",
    "\n",
    "For this week’s assignment, you are not required to actually load or analyze the data. "
   ]
  },
  {
   "cell_type": "markdown",
   "metadata": {},
   "source": [
    "## I. Project-1 requirements\n",
    "\n",
    "* Identify a data set, which can be modeled using graph theory concepts.\n",
    "\n",
    "* Each node must have at least one categorical variable.\n",
    "\n",
    "* Compare the centrality measures (degree centrality and eigen centrality measures) across different values of categorical variable values, and determine if the centrality measures are statistically significant to say that the cetrality measures are different for different values of the categorical variable.\n",
    "\n",
    "* Additional requirements:\n",
    "  * Identify the graph center nodes, and plot them on the graph, highlighting the center nodes.\n",
    "  * Identify the graph peripheral nodes, and plot them on the graph, highlighting the peripheral nodes.\n",
    "  * Plot the nodes which have higher eigen values on the garph and explain their significance.\n",
    "  \n",
    "  \n",
    "\n",
    "## II. Approach\n",
    "\n",
    "This document serves as a high level design document for project-1. Specifically we will preform the following steps to develop project-1:\n",
    "\n",
    "**1. Identify data**\n",
    "\n",
    "* For project-1, we will use the super heroes data available at https://www.kaggle.com/csanhueza/the-marvel-universe-social-network. This web site has 3 data sets: \n",
    "\n",
    "    * nodes.csv - Contains comma separated values of character and the character type. The type of the character can be either *hero* or *comic*.\n",
    "\n",
    "    * edges.csv - Contains comma separated values of the hero's name, and the comic book name.\n",
    "\n",
    "    * hero-network.csv - Contains comma separated values of the hero1 and hero2 who appeared together in a comic.\n",
    "\n",
    "**2. Clean the data**\n",
    "\n",
    "* Examine the data of the three data sets and identify which datasets are needed for the project\n",
    "\n",
    "* Check if the identified data sets have any unavailable values, and determine a startegy to handle those missing values\n",
    "\n",
    "* Identify a _categorical variable_ whose effect need to be measured by performing hypothesis test\n",
    "\n",
    "* Combine the data into a single data frame, which can be used to build a graph in NetworkX\n",
    "\n",
    "**3. Build the graph**\n",
    "\n",
    "* Using NetworkX, build the graph using the data frame built in the previous step\n",
    "\n",
    "* For each node create a categorical variable, and update the variable (for each node) with its respective value\n",
    "\n",
    "**4. Analysis**\n",
    "\n",
    "* Find the following centrality measures for all the nodes:\n",
    "    * Degree Centrality\n",
    "    * Eigen Centrality\n",
    "\n",
    "* Define the following hypothesis:\n",
    "\n",
    "_Hypothesis:1_\n",
    "\n",
    "$$H_0: \\mbox{The Degree Centrality has a uniform effect, irrespective of the value of the categorical variable}$$\n",
    "    \n",
    "$$H_1: \\mbox{The Degree Centrality has some effect based on the value of the categorical variable}$$\n",
    "    \n",
    "_Hypothesis:2_\n",
    "\n",
    "$$H_0: \\mbox{The Eigen Centrality has a uniform effect, irrespective of the value of the categorical variable}$$\n",
    "    \n",
    "$$H_1: \\mbox{The Eigen Centrality has some effect based on the value of the categorical variable}$$ \n",
    "\n",
    "* Using confidence level of 95%, perform hypothesis testing, and reject/accept null hypothesis\n",
    "\n",
    "** 5. Additional requirements **\n",
    "\n",
    "Using Gephi, plot the center nodes, nodes with higher eigen values and analyze how these nodes are distributed in the complete graph.\n"
   ]
  },
  {
   "cell_type": "markdown",
   "metadata": {},
   "source": [
    "## III. Implementation\n",
    "\n",
    "Importing the required python packages"
   ]
  },
  {
   "cell_type": "code",
   "execution_count": 1,
   "metadata": {
    "collapsed": true
   },
   "outputs": [],
   "source": [
    "import networkx as net\n",
    "import urllib\n",
    "import matplotlib.pyplot as plt\n",
    "import pandas as pd\n",
    "import numpy as np\n",
    "import sklearn"
   ]
  },
  {
   "cell_type": "markdown",
   "metadata": {},
   "source": [
    "#### III-I. Preparing the data for graph\n",
    "The following code will display sample rows from the *nodes.csv*, *edges.csv* and *hero-network.csv* files.\n",
    "\n",
    "_1. Display some sample records from the files_"
   ]
  },
  {
   "cell_type": "code",
   "execution_count": 48,
   "metadata": {},
   "outputs": [
    {
     "name": "stdout",
     "output_type": "stream",
     "text": [
      "Sample records of hero-network.csv file:\n"
     ]
    },
    {
     "data": {
      "text/html": [
       "<div>\n",
       "<style>\n",
       "    .dataframe thead tr:only-child th {\n",
       "        text-align: right;\n",
       "    }\n",
       "\n",
       "    .dataframe thead th {\n",
       "        text-align: left;\n",
       "    }\n",
       "\n",
       "    .dataframe tbody tr th {\n",
       "        vertical-align: top;\n",
       "    }\n",
       "</style>\n",
       "<table border=\"1\" class=\"dataframe\">\n",
       "  <thead>\n",
       "    <tr style=\"text-align: right;\">\n",
       "      <th></th>\n",
       "      <th>hero1</th>\n",
       "      <th>hero2</th>\n",
       "    </tr>\n",
       "  </thead>\n",
       "  <tbody>\n",
       "    <tr>\n",
       "      <th>0</th>\n",
       "      <td>LITTLE, ABNER</td>\n",
       "      <td>PRINCESS ZANDA</td>\n",
       "    </tr>\n",
       "    <tr>\n",
       "      <th>1</th>\n",
       "      <td>LITTLE, ABNER</td>\n",
       "      <td>BLACK PANTHER/T'CHAL</td>\n",
       "    </tr>\n",
       "    <tr>\n",
       "      <th>2</th>\n",
       "      <td>BLACK PANTHER/T'CHAL</td>\n",
       "      <td>PRINCESS ZANDA</td>\n",
       "    </tr>\n",
       "    <tr>\n",
       "      <th>3</th>\n",
       "      <td>LITTLE, ABNER</td>\n",
       "      <td>PRINCESS ZANDA</td>\n",
       "    </tr>\n",
       "    <tr>\n",
       "      <th>4</th>\n",
       "      <td>LITTLE, ABNER</td>\n",
       "      <td>BLACK PANTHER/T'CHAL</td>\n",
       "    </tr>\n",
       "  </tbody>\n",
       "</table>\n",
       "</div>"
      ],
      "text/plain": [
       "                  hero1                 hero2\n",
       "0         LITTLE, ABNER        PRINCESS ZANDA\n",
       "1         LITTLE, ABNER  BLACK PANTHER/T'CHAL\n",
       "2  BLACK PANTHER/T'CHAL        PRINCESS ZANDA\n",
       "3         LITTLE, ABNER        PRINCESS ZANDA\n",
       "4         LITTLE, ABNER  BLACK PANTHER/T'CHAL"
      ]
     },
     "metadata": {},
     "output_type": "display_data"
    },
    {
     "name": "stdout",
     "output_type": "stream",
     "text": [
      "Sample records of nodes.csv file:\n"
     ]
    },
    {
     "data": {
      "text/html": [
       "<div>\n",
       "<style>\n",
       "    .dataframe thead tr:only-child th {\n",
       "        text-align: right;\n",
       "    }\n",
       "\n",
       "    .dataframe thead th {\n",
       "        text-align: left;\n",
       "    }\n",
       "\n",
       "    .dataframe tbody tr th {\n",
       "        vertical-align: top;\n",
       "    }\n",
       "</style>\n",
       "<table border=\"1\" class=\"dataframe\">\n",
       "  <thead>\n",
       "    <tr style=\"text-align: right;\">\n",
       "      <th></th>\n",
       "      <th>node</th>\n",
       "      <th>type</th>\n",
       "    </tr>\n",
       "  </thead>\n",
       "  <tbody>\n",
       "    <tr>\n",
       "      <th>0</th>\n",
       "      <td>2001 10</td>\n",
       "      <td>comic</td>\n",
       "    </tr>\n",
       "    <tr>\n",
       "      <th>1</th>\n",
       "      <td>2001 8</td>\n",
       "      <td>comic</td>\n",
       "    </tr>\n",
       "    <tr>\n",
       "      <th>2</th>\n",
       "      <td>2001 9</td>\n",
       "      <td>comic</td>\n",
       "    </tr>\n",
       "    <tr>\n",
       "      <th>3</th>\n",
       "      <td>24-HOUR MAN/EMMANUEL</td>\n",
       "      <td>hero</td>\n",
       "    </tr>\n",
       "    <tr>\n",
       "      <th>4</th>\n",
       "      <td>3-D MAN/CHARLES CHAN</td>\n",
       "      <td>hero</td>\n",
       "    </tr>\n",
       "  </tbody>\n",
       "</table>\n",
       "</div>"
      ],
      "text/plain": [
       "                   node   type\n",
       "0               2001 10  comic\n",
       "1                2001 8  comic\n",
       "2                2001 9  comic\n",
       "3  24-HOUR MAN/EMMANUEL   hero\n",
       "4  3-D MAN/CHARLES CHAN   hero"
      ]
     },
     "metadata": {},
     "output_type": "display_data"
    },
    {
     "name": "stdout",
     "output_type": "stream",
     "text": [
      "Sample records of edges.csv file:\n"
     ]
    },
    {
     "data": {
      "text/html": [
       "<div>\n",
       "<style>\n",
       "    .dataframe thead tr:only-child th {\n",
       "        text-align: right;\n",
       "    }\n",
       "\n",
       "    .dataframe thead th {\n",
       "        text-align: left;\n",
       "    }\n",
       "\n",
       "    .dataframe tbody tr th {\n",
       "        vertical-align: top;\n",
       "    }\n",
       "</style>\n",
       "<table border=\"1\" class=\"dataframe\">\n",
       "  <thead>\n",
       "    <tr style=\"text-align: right;\">\n",
       "      <th></th>\n",
       "      <th>hero</th>\n",
       "      <th>comic</th>\n",
       "    </tr>\n",
       "  </thead>\n",
       "  <tbody>\n",
       "    <tr>\n",
       "      <th>0</th>\n",
       "      <td>24-HOUR MAN/EMMANUEL</td>\n",
       "      <td>AA2 35</td>\n",
       "    </tr>\n",
       "    <tr>\n",
       "      <th>1</th>\n",
       "      <td>3-D MAN/CHARLES CHAN</td>\n",
       "      <td>AVF 4</td>\n",
       "    </tr>\n",
       "    <tr>\n",
       "      <th>2</th>\n",
       "      <td>3-D MAN/CHARLES CHAN</td>\n",
       "      <td>AVF 5</td>\n",
       "    </tr>\n",
       "    <tr>\n",
       "      <th>3</th>\n",
       "      <td>3-D MAN/CHARLES CHAN</td>\n",
       "      <td>COC 1</td>\n",
       "    </tr>\n",
       "    <tr>\n",
       "      <th>4</th>\n",
       "      <td>3-D MAN/CHARLES CHAN</td>\n",
       "      <td>H2 251</td>\n",
       "    </tr>\n",
       "  </tbody>\n",
       "</table>\n",
       "</div>"
      ],
      "text/plain": [
       "                   hero   comic\n",
       "0  24-HOUR MAN/EMMANUEL  AA2 35\n",
       "1  3-D MAN/CHARLES CHAN   AVF 4\n",
       "2  3-D MAN/CHARLES CHAN   AVF 5\n",
       "3  3-D MAN/CHARLES CHAN   COC 1\n",
       "4  3-D MAN/CHARLES CHAN  H2 251"
      ]
     },
     "metadata": {},
     "output_type": "display_data"
    }
   ],
   "source": [
    "#Read the data into a pandas data frame:\n",
    "hero_network_df = pd.read_csv('./data/hero-network.csv')\n",
    "nodes_df = pd.read_csv('./data/nodes.csv')\n",
    "edges_df = pd.read_csv('./data/edges.csv')\n",
    "\n",
    "print(\"Sample records of hero-network.csv file:\")\n",
    "display(hero_network_df.head())\n",
    "\n",
    "print(\"Sample records of nodes.csv file:\")\n",
    "display(nodes_df.head())\n",
    "\n",
    "print(\"Sample records of edges.csv file:\")\n",
    "display(edges_df.head())\n",
    "\n"
   ]
  },
  {
   "cell_type": "markdown",
   "metadata": {},
   "source": [
    "From the above display, we can conclude that the file *edges.csv* is not needed, since the other two files contain all the required data to develop this project. The file *hero-network.csv* has the edges details between two comic characters, who co-appeared in a Marvel comic, and the file nodes.csv has character names, along with the *type* variable which identifies the type of the character :*hero* or *comic*.  \n",
    "\n",
    "We will use the *type* variable to perform the statistical hypothesis testing. We will analyze the effect of the *type* variable on the centrality measures. Specifically we would like to address if the centrality measures differ significantly based on the type of the character.\n",
    "\n",
    "_In **summary**, we will use only two files: **hero-network.csv** and **nodes.csv**_"
   ]
  },
  {
   "cell_type": "markdown",
   "metadata": {},
   "source": [
    "_2. Cleaning the data_\n",
    "\n",
    "The following code block will perform the following checks:\n",
    "\n",
    "* Do we have any unavailable records in the input files?\n",
    "\n",
    "* How many distinct values does the *type* variable has\n",
    "\n",
    "* Are there any self referential nodes?\n"
   ]
  },
  {
   "cell_type": "code",
   "execution_count": 49,
   "metadata": {},
   "outputs": [
    {
     "name": "stdout",
     "output_type": "stream",
     "text": [
      "Summary information of the data is displayed below:\n"
     ]
    },
    {
     "data": {
      "text/html": [
       "<div>\n",
       "<style>\n",
       "    .dataframe thead tr:only-child th {\n",
       "        text-align: right;\n",
       "    }\n",
       "\n",
       "    .dataframe thead th {\n",
       "        text-align: left;\n",
       "    }\n",
       "\n",
       "    .dataframe tbody tr th {\n",
       "        vertical-align: top;\n",
       "    }\n",
       "</style>\n",
       "<table border=\"1\" class=\"dataframe\">\n",
       "  <thead>\n",
       "    <tr style=\"text-align: right;\">\n",
       "      <th></th>\n",
       "      <th>hero1</th>\n",
       "      <th>hero2</th>\n",
       "    </tr>\n",
       "  </thead>\n",
       "  <tbody>\n",
       "    <tr>\n",
       "      <th>count</th>\n",
       "      <td>574467</td>\n",
       "      <td>574467</td>\n",
       "    </tr>\n",
       "    <tr>\n",
       "      <th>unique</th>\n",
       "      <td>6211</td>\n",
       "      <td>6173</td>\n",
       "    </tr>\n",
       "    <tr>\n",
       "      <th>top</th>\n",
       "      <td>CAPTAIN AMERICA</td>\n",
       "      <td>CAPTAIN AMERICA</td>\n",
       "    </tr>\n",
       "    <tr>\n",
       "      <th>freq</th>\n",
       "      <td>8149</td>\n",
       "      <td>8350</td>\n",
       "    </tr>\n",
       "  </tbody>\n",
       "</table>\n",
       "</div>"
      ],
      "text/plain": [
       "                  hero1            hero2\n",
       "count            574467           574467\n",
       "unique             6211             6173\n",
       "top     CAPTAIN AMERICA  CAPTAIN AMERICA\n",
       "freq               8149             8350"
      ]
     },
     "metadata": {},
     "output_type": "display_data"
    },
    {
     "data": {
      "text/html": [
       "<div>\n",
       "<style>\n",
       "    .dataframe thead tr:only-child th {\n",
       "        text-align: right;\n",
       "    }\n",
       "\n",
       "    .dataframe thead th {\n",
       "        text-align: left;\n",
       "    }\n",
       "\n",
       "    .dataframe tbody tr th {\n",
       "        vertical-align: top;\n",
       "    }\n",
       "</style>\n",
       "<table border=\"1\" class=\"dataframe\">\n",
       "  <thead>\n",
       "    <tr style=\"text-align: right;\">\n",
       "      <th></th>\n",
       "      <th>node</th>\n",
       "      <th>type</th>\n",
       "    </tr>\n",
       "  </thead>\n",
       "  <tbody>\n",
       "    <tr>\n",
       "      <th>count</th>\n",
       "      <td>19090</td>\n",
       "      <td>19090</td>\n",
       "    </tr>\n",
       "    <tr>\n",
       "      <th>unique</th>\n",
       "      <td>19090</td>\n",
       "      <td>2</td>\n",
       "    </tr>\n",
       "    <tr>\n",
       "      <th>top</th>\n",
       "      <td>TOD 68</td>\n",
       "      <td>comic</td>\n",
       "    </tr>\n",
       "    <tr>\n",
       "      <th>freq</th>\n",
       "      <td>1</td>\n",
       "      <td>12651</td>\n",
       "    </tr>\n",
       "  </tbody>\n",
       "</table>\n",
       "</div>"
      ],
      "text/plain": [
       "          node   type\n",
       "count    19090  19090\n",
       "unique   19090      2\n",
       "top     TOD 68  comic\n",
       "freq         1  12651"
      ]
     },
     "metadata": {},
     "output_type": "display_data"
    }
   ],
   "source": [
    "#Do we have any unavailable data in the \n",
    "print(\"Summary information of the data is displayed below:\")\n",
    "display(hero_network_df.describe())\n",
    "\n",
    "display(nodes_df.describe())"
   ]
  },
  {
   "cell_type": "markdown",
   "metadata": {},
   "source": [
    "The above display confirms that there are NO unavailable data in the data frames (or files). Also the *type* variable has only two distinct values. The following code block confirms that the *type* variable has only two values *hero* or *comic*."
   ]
  },
  {
   "cell_type": "code",
   "execution_count": 7,
   "metadata": {},
   "outputs": [
    {
     "data": {
      "text/plain": [
       "{'comic', 'hero'}"
      ]
     },
     "execution_count": 7,
     "metadata": {},
     "output_type": "execute_result"
    }
   ],
   "source": [
    "#Get the distinct values in the type variable\n",
    "set(nodes_df[\"type\"])"
   ]
  },
  {
   "cell_type": "markdown",
   "metadata": {},
   "source": [
    "_3. Check if any self-referential loops_\n",
    "\n",
    "We will check if the nodes have any self referential loops. For this project, we will ignore\n",
    "such edges, since the centrality measure (degree centrality) would get distorted with self-referential loops. "
   ]
  },
  {
   "cell_type": "code",
   "execution_count": 50,
   "metadata": {},
   "outputs": [
    {
     "name": "stdout",
     "output_type": "stream",
     "text": [
      "There are some rows which have both the same hero listed as hero1 and hero2 in the same comic.\n",
      "There are 2232 such rows. These rows might refer to the comics in which the hero might have appeared in \n",
      "more than one role.\n",
      "But for this project we will eliminate those rows from the data set.\n",
      "\n",
      "The summary and sample records of the final, cleansed data set are displayed below:\n"
     ]
    },
    {
     "data": {
      "text/html": [
       "<div>\n",
       "<style>\n",
       "    .dataframe thead tr:only-child th {\n",
       "        text-align: right;\n",
       "    }\n",
       "\n",
       "    .dataframe thead th {\n",
       "        text-align: left;\n",
       "    }\n",
       "\n",
       "    .dataframe tbody tr th {\n",
       "        vertical-align: top;\n",
       "    }\n",
       "</style>\n",
       "<table border=\"1\" class=\"dataframe\">\n",
       "  <thead>\n",
       "    <tr style=\"text-align: right;\">\n",
       "      <th></th>\n",
       "      <th>hero1</th>\n",
       "      <th>hero2</th>\n",
       "    </tr>\n",
       "  </thead>\n",
       "  <tbody>\n",
       "    <tr>\n",
       "      <th>count</th>\n",
       "      <td>572235</td>\n",
       "      <td>572235</td>\n",
       "    </tr>\n",
       "    <tr>\n",
       "      <th>unique</th>\n",
       "      <td>6211</td>\n",
       "      <td>6173</td>\n",
       "    </tr>\n",
       "    <tr>\n",
       "      <th>top</th>\n",
       "      <td>CAPTAIN AMERICA</td>\n",
       "      <td>CAPTAIN AMERICA</td>\n",
       "    </tr>\n",
       "    <tr>\n",
       "      <th>freq</th>\n",
       "      <td>8029</td>\n",
       "      <td>8230</td>\n",
       "    </tr>\n",
       "  </tbody>\n",
       "</table>\n",
       "</div>"
      ],
      "text/plain": [
       "                  hero1            hero2\n",
       "count            572235           572235\n",
       "unique             6211             6173\n",
       "top     CAPTAIN AMERICA  CAPTAIN AMERICA\n",
       "freq               8029             8230"
      ]
     },
     "metadata": {},
     "output_type": "display_data"
    },
    {
     "data": {
      "text/html": [
       "<div>\n",
       "<style>\n",
       "    .dataframe thead tr:only-child th {\n",
       "        text-align: right;\n",
       "    }\n",
       "\n",
       "    .dataframe thead th {\n",
       "        text-align: left;\n",
       "    }\n",
       "\n",
       "    .dataframe tbody tr th {\n",
       "        vertical-align: top;\n",
       "    }\n",
       "</style>\n",
       "<table border=\"1\" class=\"dataframe\">\n",
       "  <thead>\n",
       "    <tr style=\"text-align: right;\">\n",
       "      <th></th>\n",
       "      <th>hero1</th>\n",
       "      <th>hero2</th>\n",
       "    </tr>\n",
       "  </thead>\n",
       "  <tbody>\n",
       "    <tr>\n",
       "      <th>0</th>\n",
       "      <td>LITTLE, ABNER</td>\n",
       "      <td>PRINCESS ZANDA</td>\n",
       "    </tr>\n",
       "    <tr>\n",
       "      <th>1</th>\n",
       "      <td>LITTLE, ABNER</td>\n",
       "      <td>BLACK PANTHER/T'CHAL</td>\n",
       "    </tr>\n",
       "    <tr>\n",
       "      <th>2</th>\n",
       "      <td>BLACK PANTHER/T'CHAL</td>\n",
       "      <td>PRINCESS ZANDA</td>\n",
       "    </tr>\n",
       "    <tr>\n",
       "      <th>3</th>\n",
       "      <td>LITTLE, ABNER</td>\n",
       "      <td>PRINCESS ZANDA</td>\n",
       "    </tr>\n",
       "    <tr>\n",
       "      <th>4</th>\n",
       "      <td>LITTLE, ABNER</td>\n",
       "      <td>BLACK PANTHER/T'CHAL</td>\n",
       "    </tr>\n",
       "  </tbody>\n",
       "</table>\n",
       "</div>"
      ],
      "text/plain": [
       "                  hero1                 hero2\n",
       "0         LITTLE, ABNER        PRINCESS ZANDA\n",
       "1         LITTLE, ABNER  BLACK PANTHER/T'CHAL\n",
       "2  BLACK PANTHER/T'CHAL        PRINCESS ZANDA\n",
       "3         LITTLE, ABNER        PRINCESS ZANDA\n",
       "4         LITTLE, ABNER  BLACK PANTHER/T'CHAL"
      ]
     },
     "metadata": {},
     "output_type": "display_data"
    }
   ],
   "source": [
    "ga_edges = hero_network_df\n",
    "ga_edges.loc[(ga_edges[\"hero1\"] == ga_edges[\"hero2\"])].head()\n",
    "\n",
    "print(\"There are some rows which have both the same hero listed as hero1 and hero2 in the same comic.\\n\\\n",
    "There are {0} such rows. These rows might refer to the comics in which the hero might have \\\n",
    "appeared in \\nmore than one role.\\nBut for this project we will eliminate those rows from the data set.\\\n",
    "\".format(sum(ga_edges[\"hero1\"] == ga_edges[\"hero2\"])))\n",
    "\n",
    "ga_edges = ga_edges.loc[~(ga_edges[\"hero1\"] == ga_edges[\"hero2\"])]\n",
    "\n",
    "print(\"\\nThe summary and sample records of the final, cleansed data set are displayed below:\")\n",
    "display(ga_edges.describe())\n",
    "display(ga_edges.head())\n"
   ]
  },
  {
   "attachments": {},
   "cell_type": "markdown",
   "metadata": {},
   "source": [
    "_4. Join the nodes with the node type_\n",
    "\n",
    "We have to get the node *type* for each value in *hero1* and *hero2* using the nodes.csv data. To perform this, we will remove any unnecessary spaces before and after each value of *hero1* and *hero*2 in *hero-network.csv*, and *node* in *nodes.csv*. Then we will join the *hero-network.csv* and *nodes.csv*, to obtain the character type (*hero* or *comic*). But there are some rows in *hero-network.csv* whose values are not fully expanded. For example, the character name SPIDER-MAN/PETER PARKER is defined as SPIDER-MAN/PETER PARKERKER in *nodes.csv* while it is defined as SPIDER-MAN/PETER PAR in *hero-network.csv*. To handle such mis-matches, we will match the values of *hero1* in *hero-network.csv* with *node* value of *nodes.csv*, by comparing the hero1 value with the initial values of the node and vice-versa. If the values are matched, then we will use the corresponding *type* value in nodes.csv to identify the *hero1* type. The same logic will be used for *hero2* type also."
   ]
  },
  {
   "cell_type": "code",
   "execution_count": 65,
   "metadata": {},
   "outputs": [
    {
     "name": "stderr",
     "output_type": "stream",
     "text": [
      "c:\\users\\sekhar\\anaconda2\\envs\\tensorflow\\lib\\site-packages\\ipykernel_launcher.py:1: SettingWithCopyWarning: \n",
      "A value is trying to be set on a copy of a slice from a DataFrame.\n",
      "Try using .loc[row_indexer,col_indexer] = value instead\n",
      "\n",
      "See the caveats in the documentation: http://pandas.pydata.org/pandas-docs/stable/indexing.html#indexing-view-versus-copy\n",
      "  \"\"\"Entry point for launching an IPython kernel.\n",
      "c:\\users\\sekhar\\anaconda2\\envs\\tensorflow\\lib\\site-packages\\ipykernel_launcher.py:2: SettingWithCopyWarning: \n",
      "A value is trying to be set on a copy of a slice from a DataFrame.\n",
      "Try using .loc[row_indexer,col_indexer] = value instead\n",
      "\n",
      "See the caveats in the documentation: http://pandas.pydata.org/pandas-docs/stable/indexing.html#indexing-view-versus-copy\n",
      "  \n"
     ]
    }
   ],
   "source": [
    "ga_edges[\"hero1\"] = ga_edges[\"hero1\"].str.strip()\n",
    "ga_edges[\"hero2\"] = ga_edges[\"hero2\"].str.strip()\n",
    "nodes_df.loc[\"node\"] = nodes_df[\"node\"].str.strip()\n",
    "#ga_edges.loc[:,\"hero1\"] = list(ga_edges[\"hero1\"].map(lambda x: x.strip()))\n",
    "#ga_edges.loc[\"hero2\"] = ga_edges[\"hero2\"].map(lambda x: x.strip())\n",
    "#nodes_df.loc[\"node\"] = nodes_df[\"node\"].map(lambda x: x.strip())\n",
    "#ga_edges"
   ]
  },
  {
   "cell_type": "code",
   "execution_count": 124,
   "metadata": {},
   "outputs": [
    {
     "data": {
      "text/plain": [
       "[('SPIDER-MAN/PETER PARKERKER', 'hero')]"
      ]
     },
     "execution_count": 124,
     "metadata": {},
     "output_type": "execute_result"
    }
   ],
   "source": [
    "#def get_type(hero,nodes):\n",
    "#    nodes[nodes[\"node\"].contains(hero)][\"type\"]\n",
    "    \n",
    "\n",
    "#ga_edges[~ga_edges[\"hero1\"].isin(list(nodes_df[\"node\"]))]\n",
    "#ga_edges[\"hero1\"].map(lambda x: )\n",
    "#nodes_df[nodes_df[\"node\"].str.contains(\"SPIDER-MAN/PETER PAR\")][\"type\"]\n",
    "#nodes_df[\"node\"].str.startswith(pat=\"SPIDER-MAN/PETER PAR\",case=False)\n",
    "\n",
    "#nodes_df.describe()\n",
    "#[(i,j) for i,j in zip(nodes_df[\"node\"],nodes_df[\"type\"]) if \"A\" in i]\n",
    "#[for i,j in list(zip(nodes_df[\"node\"],nodes_df[\"type\"])) if i.startswith(\"SPIDER-MAN\"): j] \n",
    "#[j for i in list(nodes_df[\"node\"]): i]\n",
    "\n",
    "[(i,j) for i,j in zip(nodes_df[\"node\"],nodes_df[\"type\"]) if str(i).startswith(\"SPIDER-MAN/PETER PAR\")]"
   ]
  },
  {
   "cell_type": "code",
   "execution_count": null,
   "metadata": {},
   "outputs": [],
   "source": [
    "hero1 = pd.Series(list(set(ga_edges[\"hero1\"])))\n",
    "#hero1_type = [j for i,j in zip(nodes_df[\"node\"],nodes_df[\"type\"]) \\\n",
    "# if str(i).startswith(\"SPIDER-MAN/PETER PAR\")]\n",
    "hero1.map(lambda x: \\\n",
    "         [(i,j) for i,j in zip(nodes_df[\"node\"],nodes_df[\"type\"]) \\\n",
    " if str(i).startswith(x)]\\\n",
    "         )\n",
    "#print([(i,j) for i, j in zip(hero1, hero1_type)])"
   ]
  },
  {
   "cell_type": "markdown",
   "metadata": {},
   "source": [
    "### III-II Building the graph\n",
    "Using the cleansed data, we will build a network graph of super heros."
   ]
  },
  {
   "cell_type": "code",
   "execution_count": 9,
   "metadata": {},
   "outputs": [
    {
     "name": "stdout",
     "output_type": "stream",
     "text": [
      "Name: \n",
      "Type: Graph\n",
      "Number of nodes: 6426\n",
      "Number of edges: 167207\n",
      "Average degree:  52.0408\n"
     ]
    }
   ],
   "source": [
    "GA = net.from_pandas_dataframe(ga_edges,source=\"hero1\",target=\"hero2\")\n",
    "print(net.info(GA))"
   ]
  },
  {
   "cell_type": "markdown",
   "metadata": {},
   "source": [
    "_Adding the **type** attribute to each node_"
   ]
  },
  {
   "cell_type": "code",
   "execution_count": 32,
   "metadata": {},
   "outputs": [
    {
     "name": "stdout",
     "output_type": "stream",
     "text": [
      "                   node   type\n",
      "0               2001 10  comic\n",
      "1                2001 8  comic\n",
      "2                2001 9  comic\n",
      "3  24-HOUR MAN/EMMANUEL   hero\n",
      "4  3-D MAN/CHARLES CHAN   hero\n",
      "                  hero1                 hero2\n",
      "0         LITTLE, ABNER        PRINCESS ZANDA\n",
      "1         LITTLE, ABNER  BLACK PANTHER/T'CHAL\n",
      "2  BLACK PANTHER/T'CHAL        PRINCESS ZANDA\n",
      "3         LITTLE, ABNER        PRINCESS ZANDA\n",
      "4         LITTLE, ABNER  BLACK PANTHER/T'CHAL\n",
      "(572235, 2)\n",
      "(572241, 4)\n",
      "(572241, 4)\n"
     ]
    },
    {
     "data": {
      "text/html": [
       "<div>\n",
       "<style>\n",
       "    .dataframe thead tr:only-child th {\n",
       "        text-align: right;\n",
       "    }\n",
       "\n",
       "    .dataframe thead th {\n",
       "        text-align: left;\n",
       "    }\n",
       "\n",
       "    .dataframe tbody tr th {\n",
       "        vertical-align: top;\n",
       "    }\n",
       "</style>\n",
       "<table border=\"1\" class=\"dataframe\">\n",
       "  <thead>\n",
       "    <tr style=\"text-align: right;\">\n",
       "      <th></th>\n",
       "      <th>hero1</th>\n",
       "      <th>hero2</th>\n",
       "      <th>hero1</th>\n",
       "      <th>hero1_type</th>\n",
       "    </tr>\n",
       "  </thead>\n",
       "  <tbody>\n",
       "    <tr>\n",
       "      <th>0</th>\n",
       "      <td>LITTLE, ABNER</td>\n",
       "      <td>PRINCESS ZANDA</td>\n",
       "      <td>2001 10</td>\n",
       "      <td>comic</td>\n",
       "    </tr>\n",
       "    <tr>\n",
       "      <th>1</th>\n",
       "      <td>LITTLE, ABNER</td>\n",
       "      <td>BLACK PANTHER/T'CHAL</td>\n",
       "      <td>2001 8</td>\n",
       "      <td>comic</td>\n",
       "    </tr>\n",
       "    <tr>\n",
       "      <th>2</th>\n",
       "      <td>BLACK PANTHER/T'CHAL</td>\n",
       "      <td>PRINCESS ZANDA</td>\n",
       "      <td>2001 9</td>\n",
       "      <td>comic</td>\n",
       "    </tr>\n",
       "    <tr>\n",
       "      <th>3</th>\n",
       "      <td>LITTLE, ABNER</td>\n",
       "      <td>PRINCESS ZANDA</td>\n",
       "      <td>24-HOUR MAN/EMMANUEL</td>\n",
       "      <td>hero</td>\n",
       "    </tr>\n",
       "    <tr>\n",
       "      <th>4</th>\n",
       "      <td>LITTLE, ABNER</td>\n",
       "      <td>BLACK PANTHER/T'CHAL</td>\n",
       "      <td>3-D MAN/CHARLES CHAN</td>\n",
       "      <td>hero</td>\n",
       "    </tr>\n",
       "  </tbody>\n",
       "</table>\n",
       "</div>"
      ],
      "text/plain": [
       "                  hero1                 hero2                 hero1 hero1_type\n",
       "0         LITTLE, ABNER        PRINCESS ZANDA               2001 10      comic\n",
       "1         LITTLE, ABNER  BLACK PANTHER/T'CHAL                2001 8      comic\n",
       "2  BLACK PANTHER/T'CHAL        PRINCESS ZANDA                2001 9      comic\n",
       "3         LITTLE, ABNER        PRINCESS ZANDA  24-HOUR MAN/EMMANUEL       hero\n",
       "4         LITTLE, ABNER  BLACK PANTHER/T'CHAL  3-D MAN/CHARLES CHAN       hero"
      ]
     },
     "execution_count": 32,
     "metadata": {},
     "output_type": "execute_result"
    }
   ],
   "source": [
    "print(nodes_df.head())\n",
    "print(ga_edges.head())\n",
    "\n",
    "hero1_nodes = nodes_df.copy()\n",
    "hero1_nodes.columns = [\"hero1\",\"hero1_type\"]\n",
    "\n",
    "hero2_nodes = nodes_df.copy()\n",
    "hero2_nodes.columns = [\"hero2\",\"hero2_type\"]\n",
    "\n",
    "print(ga_edges.shape)\n",
    "print(pd.concat([ga_edges,hero1_nodes],axis=1,join='outer').shape)\n",
    "print(pd.concat([ga_edges,hero2_nodes],axis=1,join='outer').shape)\n",
    "temp_df=pd.concat([ga_edges,hero1_nodes],axis=1,join='outer')\n",
    "pd.concat([ga_edges,hero1_nodes],axis=1,join='outer').head()\n",
    "#nodes_df.shape\n",
    "#type_dict = dict(zip(list(nodes_df[\"node\"]),list(nodes_df[\"type\"])))\n",
    "#net.set_node_attributes(GA,\"type\",type_dict)\n",
    "\n",
    "#pd.DataFrame.to_dict(nodes_df)"
   ]
  },
  {
   "cell_type": "code",
   "execution_count": 42,
   "metadata": {},
   "outputs": [
    {
     "data": {
      "text/plain": [
       "{'AGAMEMNON II/ANDREI ',\n",
       " 'ANDROMEDA/ANDROMEDA ',\n",
       " 'ANGELOPOULOS, ANGEL ',\n",
       " 'APE MAN/GORDON MONK ',\n",
       " 'APOCALYPSE | MUTANT ',\n",
       " 'APOCALYPSE/EN SABAH ',\n",
       " 'ARMBRUSTER, COLONEL ',\n",
       " 'AUGUST PERSONAGE IN ',\n",
       " 'AURORA/JEANNE-MARIE ',\n",
       " 'BATTLEAXE II/JEROME ',\n",
       " 'BEETLE/ABNER RONALD ',\n",
       " 'BLACK AVENGER/JERRY ',\n",
       " 'BLACK BOLT | MUTANT ',\n",
       " 'BLACK FOX/ROBERT W. ',\n",
       " 'BLACK KNIGHT II/SIR ',\n",
       " 'BLACK KNIGHT V/DANE ',\n",
       " 'BLACK TALON/DESMOND ',\n",
       " 'BLACK WIDOW/NATASHA ',\n",
       " 'BLOODSTORM | MUTANT ',\n",
       " 'BRADDOCK, JAMES JR. ',\n",
       " 'BRUTE/REED RICHARDS ',\n",
       " 'BUCHETTO, SALVATORE ',\n",
       " 'CEREBRO MARK XIII | ',\n",
       " 'CHI DEMON/PROFESSOR ',\n",
       " 'CITIZEN V II/HELMUT ',\n",
       " 'CITYDWELLER/JERRY | ',\n",
       " \"COAL TIGER/T'CHALLA \",\n",
       " 'COPPERHEAD/LAWRENCE ',\n",
       " 'CORRIGAN, ARCHIBALD ',\n",
       " 'COY, GENERAL NGUYEN ',\n",
       " 'DARKOVER, PROFESSOR ',\n",
       " 'DEATH STING/MIRANDA ',\n",
       " 'DEVERAUX, INSPECTOR ',\n",
       " 'DIAMOND LIL/LILLIAN ',\n",
       " 'DOC SAMSON | MUTANT ',\n",
       " 'DR. DOOM/VICTOR VON ',\n",
       " 'DR. SPECTRUM II/DR. ',\n",
       " 'DR. SPECTRUM/JOSEPH ',\n",
       " 'DR. STRANGE/STEPHEN ',\n",
       " 'EDWARDS, MARTIN/DR. ',\n",
       " 'ERISHKIGEL II/HOLLY ',\n",
       " 'FIREFALL III/ARCHIE ',\n",
       " 'FIREWALL/THEARY/MIN ',\n",
       " 'FOOLKILLER III/KURT ',\n",
       " 'FURY, COL. NICHOLAS ',\n",
       " 'FURY, NICK | MUTANT ',\n",
       " 'GAMBIT DOPPELGANGER ',\n",
       " 'GAMBIT/REMY LEBEAU ',\n",
       " 'GARDENER/ORD ZYONYZ ',\n",
       " 'GHOST RIDER III/DAN ',\n",
       " 'GREEN GOBLIN/NORMAN ',\n",
       " 'GREY, JEAN | MUTANT ',\n",
       " 'GRIMM, BEN | MUTANT ',\n",
       " 'GRIZZLY II/THEODORE ',\n",
       " 'GYRICH, HENRY PETER ',\n",
       " 'HAVOK/ALEX SUMMERS ',\n",
       " 'HOBGOBLIN III/LEFTY ',\n",
       " 'ICEMAN/ROBERT BOBBY ',\n",
       " 'INVISIBLE WOMAN/SUE ',\n",
       " 'IRON MAN/TONY STARK ',\n",
       " 'JACK OF HEARTS/JACK ',\n",
       " 'JAMESON, COL. JOHN ',\n",
       " 'JARVIS, EDWIN ',\n",
       " 'JEFFRIES, MAGGIE ',\n",
       " 'JUGGERNAUT | MUTANT ',\n",
       " 'KILGREW, BASIL BETA ',\n",
       " 'KILLER SHRIKE/SIMON ',\n",
       " 'KLIGGER/SEN. EUGENE ',\n",
       " 'LECLAIRE, PROFESSOR ',\n",
       " 'LEVIATHAN II/EDWARD ',\n",
       " 'LIVING LASER/ARTHUR ',\n",
       " 'MACTAGGART, MOIRA | ',\n",
       " 'MADDICKS, PROFESSOR ',\n",
       " 'MAGNETO/MAGNUS/ERIC ',\n",
       " 'MAN-SPIDER | MUTANT ',\n",
       " 'MANIKIN/DR. WHITMAN ',\n",
       " 'MANN, DR. J. VERNON ',\n",
       " 'MARROW/SARAH ',\n",
       " 'MARTINELLI, VINCENT ',\n",
       " 'MISSING LINK II/RAY ',\n",
       " 'MODULAR MAN/STEPHEN ',\n",
       " 'MORBIUS/DR. MICHAEL ',\n",
       " 'MORNING STAR/ZVEZDA ',\n",
       " 'MR. JUSTICE/TIMOTHY ',\n",
       " 'MR. SINISTER/NATHAN ',\n",
       " 'NALES, DET. REBECCA ',\n",
       " 'NORTHSTAR/JEAN-PAUL ',\n",
       " 'OUTRIDER/OCLIN UWIR ',\n",
       " 'PAINTER/WILHELM VON ',\n",
       " 'PESTILENCE | MUTANT ',\n",
       " 'PILEDRIVER II/BRIAN ',\n",
       " 'PINKERTON, PERCIVAL ',\n",
       " 'POWERSURGE/ILLARION ',\n",
       " 'PROFESSOR ANGST/DR. ',\n",
       " 'PROFESSOR X | EARTH ',\n",
       " 'PROFESSOR X/CHARLES ',\n",
       " 'PURPLE MAN/ZEBEDIAH ',\n",
       " 'QUASAR DOPPELGANGER ',\n",
       " 'RADIOACTIVE MAN/DR. ',\n",
       " 'RAPTOR II/PROFESSOR ',\n",
       " 'RAYMOND, HENRY/ADAM ',\n",
       " 'RED SKULL II/ALBERT ',\n",
       " 'RICHARDS, FRANKLINK ',\n",
       " 'RIGHT-WINGER/JEROME ',\n",
       " 'RINGER/ANTHONY TONY ',\n",
       " 'RITTER, DEBORAH ',\n",
       " 'ROCKET RACER/ROBERT ',\n",
       " 'ROOSEVELT, FRANKLIN ',\n",
       " 'ROSS, GEN. THADDEUS ',\n",
       " 'ROSSI, COL. MICHAEL ',\n",
       " 'SABRETOOTH | MUTANT ',\n",
       " 'SCARLET WITCH/WANDA ',\n",
       " 'SENSATIONAL HYDRA/A ',\n",
       " 'SHADOWCAT/KATHERINE ',\n",
       " 'SHOCKWAVE/LANCASTER ',\n",
       " 'SHORT CIRCUIT/HENRY ',\n",
       " 'SILVERCLAW/LA GARRA ',\n",
       " 'SNOWBIRD/NARYA/ANNE ',\n",
       " 'SPAR, DR. KATHERINE ',\n",
       " 'SPIDER-MAN/PETER PAR',\n",
       " 'SPOOR/ANDREW HAMISH ',\n",
       " 'STARSHINE II/BRANDY ',\n",
       " 'STINGRAY/DR. WALTER ',\n",
       " 'STRONG GUY | MUTANT ',\n",
       " 'STUNT-MASTER/GEORGE ',\n",
       " 'TRITON DOPPELGANGER ',\n",
       " 'TUMBLER/JOHN ROBERT ',\n",
       " 'UNION JACK II/BRIAN ',\n",
       " 'UNION JACK III/JOEY ',\n",
       " 'VISION ',\n",
       " 'VISION DOPPELGANGER ',\n",
       " 'WAGNER, ERNIE WHACK ',\n",
       " 'WAR/ABRAHAM LINCOLN ',\n",
       " 'WARRIOR WOMAN/JULIA ',\n",
       " 'WASP/JANET VAN DYNE ',\n",
       " 'WATSON-PARKER, MARY ',\n",
       " 'WILD CHILD | MUTANT ',\n",
       " 'WIND-WARRIOR/PAMELA ',\n",
       " 'WOLVERINE/LOGAN ',\n",
       " 'WORTHINGTON, WARREN ',\n",
       " 'X-MAN/NATHAN GREY ',\n",
       " 'ZEMO/BARON HEINRICH '}"
      ]
     },
     "execution_count": 42,
     "metadata": {},
     "output_type": "execute_result"
    }
   ],
   "source": [
    "nodes_df[~nodes_df[\"node\"].isin(list(ga_edges[\"hero1\"]))]\n",
    "#nodes_df[(nodes_df.isin(ga_edges[\"hero1\"]))]\n",
    "\n",
    "set(ga_edges[~ga_edges[\"hero1\"].isin(list(nodes_df[\"node\"]))][\"hero1\"])"
   ]
  },
  {
   "cell_type": "markdown",
   "metadata": {},
   "source": [
    "## Analysis"
   ]
  },
  {
   "cell_type": "markdown",
   "metadata": {},
   "source": [
    "We created a graph with 6426 nodes and 167207 edges. Now we will find the following metrics of this graph:\n",
    "\n",
    "**Degree Centrality**\n",
    "    The _degree_ of a node is the number of other nodes to which it is connected. NetworkX's _degree centrality_ is calculated by taking the degree of the node and dividing by $n-1$, where $n$ is the number of nodes in the graph.\n",
    "    $$C_D(u) = \\frac{deg(u)}{n-1}$$\n",
    "    \n",
    "**Closeness Centrality**\n",
    "    Closeness Centrality measures how many \"hops\" it would take to reach every other node in a network (taking the shortest path). It can be informally thought of as \"average distance\" to all other nodes. In NetworkX, it is the reciprocal of the average value, which normalizes the value in a 0 to 1 range.\n",
    "    $$C_C(u) = \\frac{n-1}{\\sum_{v=1,v\\ne u}^{n-1}d(v,u)}$$\n",
    "    \n",
    "If you take the reciprocal, then you will find the average distance to all other nodes. \n",
    "\n",
    "The colseness centrality metric of a node measures the average distance of all other nodes from that node. Lesser the value, better is the node's position to reach most of the nodes. But NetworkX will use the reciprocal of this value, so greater the value of the closeness metric (calculated using NetworkX), closer the node to all other nodes on average. "
   ]
  },
  {
   "cell_type": "code",
   "execution_count": 37,
   "metadata": {},
   "outputs": [
    {
     "data": {
      "text/plain": [
       "[('CAPTAIN AMERICA', 0.2966536964980545),\n",
       " ('SPIDER-MAN/PETER PAR', 0.2703501945525292),\n",
       " ('IRON MAN/TONY STARK ', 0.23688715953307396),\n",
       " ('THING/BENJAMIN J. GR', 0.2203891050583658),\n",
       " ('MR. FANTASTIC/REED R', 0.21463035019455254)]"
      ]
     },
     "execution_count": 37,
     "metadata": {},
     "output_type": "execute_result"
    }
   ],
   "source": [
    "dc = net.degree_centrality(GA)\n",
    "sorted(dc.items(),key=lambda x:x[1],reverse=True)[:5]"
   ]
  },
  {
   "cell_type": "markdown",
   "metadata": {},
   "source": [
    "As per the *Degree Centrality*, CAPTAIN AMERICA has co-appeared with most of the other MARVEL characters, followed by SPIDER-MAN and IRON MAN.  "
   ]
  },
  {
   "cell_type": "code",
   "execution_count": 38,
   "metadata": {
    "collapsed": true
   },
   "outputs": [],
   "source": [
    "cc = net.closeness_centrality(GA)"
   ]
  },
  {
   "cell_type": "code",
   "execution_count": 39,
   "metadata": {},
   "outputs": [
    {
     "data": {
      "text/plain": [
       "[('CAPTAIN AMERICA', 0.583688144346388),\n",
       " ('SPIDER-MAN/PETER PAR', 0.5740902532137266),\n",
       " ('IRON MAN/TONY STARK ', 0.5614279813721937),\n",
       " ('THING/BENJAMIN J. GR', 0.5577521106953788),\n",
       " ('MR. FANTASTIC/REED R', 0.556053126894305)]"
      ]
     },
     "execution_count": 39,
     "metadata": {},
     "output_type": "execute_result"
    }
   ],
   "source": [
    "sorted(cc.items(),key=lambda x:x[1],reverse=True)[:5]"
   ]
  },
  {
   "cell_type": "markdown",
   "metadata": {},
   "source": [
    "The closeness centrality measure also showed the same characters we obtained using Degree Centrality."
   ]
  },
  {
   "cell_type": "code",
   "execution_count": 47,
   "metadata": {},
   "outputs": [
    {
     "name": "stdout",
     "output_type": "stream",
     "text": [
      "Average distance to all other characters from CAPTAIN AMERICA is 1.7132436382099152 characters\n",
      "Average distance to all other characters from SPIDER MAN is 1.7418863922563625 characters\n",
      "Average distance to all other characters from IRON MAN is 1.7811723554566812 characters\n"
     ]
    }
   ],
   "source": [
    "print(\"Average distance to all other characters from CAPTAIN AMERICA is {0} characters\".format(1/cc['CAPTAIN AMERICA']))\n",
    "print(\"Average distance to all other characters from SPIDER MAN is {0} characters\".format(1/cc['SPIDER-MAN/PETER PAR']))\n",
    "print(\"Average distance to all other characters from IRON MAN is {0} characters\".format(1/cc['IRON MAN/TONY STARK ']))"
   ]
  },
  {
   "cell_type": "markdown",
   "metadata": {},
   "source": [
    "We can note that there is no significant difference of average distances to all other comic characters from CAPTAIN AMERICA, SPIDER MAN and IRON MAN."
   ]
  },
  {
   "cell_type": "code",
   "execution_count": 48,
   "metadata": {},
   "outputs": [
    {
     "data": {
      "image/png": "[encoded data removed]",
      "text/plain": [
       "<matplotlib.figure.Figure at 0x1f9672260f0>"
      ]
     },
     "metadata": {},
     "output_type": "display_data"
    }
   ],
   "source": [
    "#Example code to draw graph\n",
    "g=net.Graph()\n",
    "g.add_edge('a','b')\n",
    "g.add_edge('a','c')\n",
    "#g.add_edge('b','c')\n",
    "layout = net.spring_layout(g)\n",
    "net.draw_networkx_nodes(g,layout)\n",
    "net.draw_networkx_labels(g,pos=layout)\n",
    "net.draw_networkx_edges(g,pos=layout)\n",
    "plt.axis(\"off\")\n",
    "plt.show()"
   ]
  },
  {
   "cell_type": "code",
   "execution_count": 23,
   "metadata": {},
   "outputs": [
    {
     "name": "stdout",
     "output_type": "stream",
     "text": [
      "Name: \n",
      "Type: Graph\n",
      "Number of nodes: 3\n",
      "Number of edges: 2\n",
      "Average degree:   1.3333\n"
     ]
    }
   ],
   "source": [
    "print(net.info(g))"
   ]
  },
  {
   "cell_type": "code",
   "execution_count": null,
   "metadata": {
    "collapsed": true
   },
   "outputs": [],
   "source": []
  }
 ],
 "metadata": {
  "kernelspec": {
   "display_name": "Python 3",
   "language": "python",
   "name": "python3"
  },
  "language_info": {
   "codemirror_mode": {
    "name": "ipython",
    "version": 3
   },
   "file_extension": ".py",
   "mimetype": "text/x-python",
   "name": "python",
   "nbconvert_exporter": "python",
   "pygments_lexer": "ipython3",
   "version": "3.5.3"
  }
 },
 "nbformat": 4,
 "nbformat_minor": 2
}
